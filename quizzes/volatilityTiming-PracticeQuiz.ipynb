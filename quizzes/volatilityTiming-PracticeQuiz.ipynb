
        {
            "cells": [
          {
           "cell_type": "markdown",
           "metadata": {},
           
           "source": ["[![Binder](../img/badge-binder.svg)](https://mybinder.org/v2/gh/nhirschey/teaching/gh-pages?filepath=quizzes/volatilityTiming-PracticeQuiz.ipynb)\u0026emsp;\n",
"[![Script](../img/badge-script.svg)](/Teaching//quizzes/volatilityTiming-PracticeQuiz.fsx)\u0026emsp;\n",
"[![Notebook](../img/badge-notebook.svg)](/Teaching//quizzes/volatilityTiming-PracticeQuiz.ipynb)\n",
"\n",
"## Question 1\n",
"\n",
"Given the list below, filter the list so that only numbers greater than `2` remain.\n",
"\n",
"```fsharp\n",
"[ 1; -4; 7; 2; -10]\n",
"```\n",
"\u003cdiv style=\"padding-left: 40px;\"\u003e\n",
"\u003cp\u003e \n",
"\u003cspan\u003e\n",
"\u003cdetails\u003e\n",
"\u003csummary\u003e\u003cp style=\"display:inline\"\u003eanswer\u003c/p\u003e\u003c/summary\u003e\n",
"\n",
"```\n",
"val it : int list = [7]\n",
"```\n",
"\n",
"\u003c/details\u003e\n",
"\u003c/span\u003e\n",
"\u003c/p\u003e\n",
"\u003c/div\u003e\n",
"\n"]
          }
,
          {
           "cell_type": "code",
           "metadata": {},
            "execution_count": null, "outputs": [],
           "source": ["// write your code here, see website for solution.\n"]
          }
,
          {
           "cell_type": "markdown",
           "metadata": {},
           
           "source": ["## Question 2\n",
"\n",
"Given the list below, take elements until you find one that is greater than `4`.\n",
"\n",
"```fsharp\n",
"[ 1; -4; 7; 2; -10]\n",
"```\n",
"\u003cdiv style=\"padding-left: 40px;\"\u003e\n",
"\u003cp\u003e \n",
"\u003cspan\u003e\n",
"\u003cdetails\u003e\n",
"\u003csummary\u003e\u003cp style=\"display:inline\"\u003eanswer\u003c/p\u003e\u003c/summary\u003e\n",
"\n",
"```\n",
"val it : int list = [1; -4]\n",
"```\n",
"\n",
"\u003c/details\u003e\n",
"\u003c/span\u003e\n",
"\u003c/p\u003e\n",
"\u003c/div\u003e\n",
"\n"]
          }
,
          {
           "cell_type": "code",
           "metadata": {},
            "execution_count": null, "outputs": [],
           "source": ["// write your code here, see website for solution.\n"]
          }
,
          {
           "cell_type": "markdown",
           "metadata": {},
           
           "source": ["## Question 3\n",
"\n",
"Given the list below, take elements until you find one that is greater than `4`.\n",
"\n",
"```fsharp\n",
"[ 1; -4; 7; 2; -10]\n",
"```\n",
"\u003cdiv style=\"padding-left: 40px;\"\u003e\n",
"\u003cp\u003e \n",
"\u003cspan\u003e\n",
"\u003cdetails\u003e\n",
"\u003csummary\u003e\u003cp style=\"display:inline\"\u003eanswer\u003c/p\u003e\u003c/summary\u003e\n",
"\n",
"```\n",
"val it : int list = [7; 2; -10]\n",
"```\n",
"\n",
"\u003c/details\u003e\n",
"\u003c/span\u003e\n",
"\u003c/p\u003e\n",
"\u003c/div\u003e\n",
"\n"]
          }
,
          {
           "cell_type": "code",
           "metadata": {},
            "execution_count": null, "outputs": [],
           "source": ["// write your code here, see website for solution.\n"]
          }
,
          {
           "cell_type": "markdown",
           "metadata": {},
           
           "source": ["## Question 4\n",
"\n",
"Given the list below, return tuples of all consecutive pairs.\n",
"\n",
"```fsharp\n",
"[ 1; -4; 7; 2; -10]\n",
"```\n",
"\u003cdiv style=\"padding-left: 40px;\"\u003e\n",
"\u003cp\u003e \n",
"\u003cspan\u003e\n",
"\u003cdetails\u003e\n",
"\u003csummary\u003e\u003cp style=\"display:inline\"\u003eanswer\u003c/p\u003e\u003c/summary\u003e\n",
"\n",
"```\n",
"val it : (int * int) list = [(1, -4); (-4, 7); (7, 2); (2, -10)]\n",
"```\n",
"\n",
"\u003c/details\u003e\n",
"\u003c/span\u003e\n",
"\u003c/p\u003e\n",
"\u003c/div\u003e\n",
"\n"]
          }
,
          {
           "cell_type": "code",
           "metadata": {},
            "execution_count": null, "outputs": [],
           "source": ["// write your code here, see website for solution.\n"]
          }
,
          {
           "cell_type": "markdown",
           "metadata": {},
           
           "source": ["## Question 5\n",
"\n",
"Given the list below, return sliding windows of 3 consecutive observations.\n",
"\n",
"```fsharp\n",
"[ 1; -4; 7; 2; -10]\n",
"```\n",
"\u003cdiv style=\"padding-left: 40px;\"\u003e\n",
"\u003cp\u003e \n",
"\u003cspan\u003e\n",
"\u003cdetails\u003e\n",
"\u003csummary\u003e\u003cp style=\"display:inline\"\u003eanswer\u003c/p\u003e\u003c/summary\u003e\n",
"\n",
"```\n",
"val it : int list list = [[1; -4; 7]; [-4; 7; 2]; [7; 2; -10]]\n",
"```\n",
"\n",
"\u003c/details\u003e\n",
"\u003c/span\u003e\n",
"\u003c/p\u003e\n",
"\u003c/div\u003e\n",
"\n"]
          }
,
          {
           "cell_type": "code",
           "metadata": {},
            "execution_count": null, "outputs": [],
           "source": ["// write your code here, see website for solution.\n"]
          }
,
          {
           "cell_type": "markdown",
           "metadata": {},
           
           "source": ["## Question 6\n",
"\n",
"Given the list below, use `scan` to return the intermediate and final cumulative sums.\n",
"\n",
"```fsharp\n",
"[ 1; -4; 7; 2; -10]\n",
"```\n",
"\u003cdiv style=\"padding-left: 40px;\"\u003e\n",
"\u003cp\u003e \n",
"\u003cspan\u003e\n",
"\u003cdetails\u003e\n",
"\u003csummary\u003e\u003cp style=\"display:inline\"\u003eanswer\u003c/p\u003e\u003c/summary\u003e\n",
"\n",
"```\n",
"val it : int list = [0; 1; -3; 4; 6; -4]\n",
"```\n",
"\n",
"\u003c/details\u003e\n",
"\u003c/span\u003e\n",
"\u003c/p\u003e\n",
"\u003c/div\u003e\n",
"\n"]
          }
,
          {
           "cell_type": "code",
           "metadata": {},
            "execution_count": null, "outputs": [],
           "source": ["// write your code here, see website for solution.\n"]
          }
,
          {
           "cell_type": "markdown",
           "metadata": {},
           
           "source": ["## Question 7\n",
"\n",
"Given the list below, use `fold` to return the final sum.\n",
"\n",
"```fsharp\n",
"[ 1; -4; 7; 2; -10]\n",
"```\n",
"\u003cdiv style=\"padding-left: 40px;\"\u003e\n",
"\u003cp\u003e \n",
"\u003cspan\u003e\n",
"\u003cdetails\u003e\n",
"\u003csummary\u003e\u003cp style=\"display:inline\"\u003eanswer\u003c/p\u003e\u003c/summary\u003e\n",
"\n",
"```\n",
"val it : int = -4\n",
"```\n",
"\n",
"\u003c/details\u003e\n",
"\u003c/span\u003e\n",
"\u003c/p\u003e\n",
"\u003c/div\u003e\n",
"\n"]
          }
,
          {
           "cell_type": "code",
           "metadata": {},
            "execution_count": null, "outputs": [],
           "source": ["// write your code here, see website for solution.\n"]
          }
,
          {
           "cell_type": "markdown",
           "metadata": {},
           
           "source": ["## Question 8\n",
"\n",
"Given the list below, use `mapFold` to return the intermediate and final cumulative sums.\n",
"\n",
"```fsharp\n",
"[ 1; -4; 7; 2; -10]\n",
"```\n",
"\u003cdiv style=\"padding-left: 40px;\"\u003e\n",
"\u003cp\u003e \n",
"\u003cspan\u003e\n",
"\u003cdetails\u003e\n",
"\u003csummary\u003e\u003cp style=\"display:inline\"\u003eanswer\u003c/p\u003e\u003c/summary\u003e\n",
"\n",
"```\n",
"val it : int list * int = ([1; -3; 4; 6; -4], -4)\n",
"```\n",
"\n",
"\u003c/details\u003e\n",
"\u003c/span\u003e\n",
"\u003c/p\u003e\n",
"\u003c/div\u003e\n",
"\n"]
          }
,
          {
           "cell_type": "code",
           "metadata": {},
            "execution_count": null, "outputs": [],
           "source": ["// write your code here, see website for solution.\n"]
          }
,
          {
           "cell_type": "markdown",
           "metadata": {},
           
           "source": ["## Question 9\n",
"\n",
"Given the list below, use `mapFold` to return a tuple of\n",
"\n",
"0 A new list in which each element of the original list is transformed by adding `1` to it and then converted into a `string`.\n",
"\n",
"1 The final cumulative sums of the list elements.\n",
"\n",
"```fsharp\n",
"[ 1; -4; 7; 2; -10]\n",
"```\n",
"\u003cdiv style=\"padding-left: 40px;\"\u003e\n",
"\u003cp\u003e \n",
"\u003cspan\u003e\n",
"\u003cdetails\u003e\n",
"\u003csummary\u003e\u003cp style=\"display:inline\"\u003eanswer\u003c/p\u003e\u003c/summary\u003e\n",
"\n",
"```\n",
"val it : string list * int = ([\"2\"; \"-3\"; \"8\"; \"3\"; \"-9\"], -4)\n",
"```\n",
"\n",
"\u003c/details\u003e\n",
"\u003c/span\u003e\n",
"\u003c/p\u003e\n",
"\u003c/div\u003e\n",
"\n"]
          }
,
          {
           "cell_type": "code",
           "metadata": {},
            "execution_count": null, "outputs": [],
           "source": ["// write your code here, see website for solution.\n"]
          }
,
          {
           "cell_type": "markdown",
           "metadata": {},
           
           "source": ["## Question 10\n",
"\n",
"Given the list below, use `mapFold` to return a tuple of\n",
"\n",
"0 The list of records with the `Y` field in each record updated to `Y+1`\n",
"\n",
"1 The sum of the `Y` fields.\n",
"\n"]
          }
,
          {
           "cell_type": "code",
           "metadata": {},
            "execution_count": 12, "outputs": [
          {
           "data": {
            "text/html": ["",
"",
"\u003cdiv style=\"padding-left: 40px;\"\u003e",
"",
"\u003cp\u003e ",
"",
"\u003cspan\u003e",
"",
"\u003cdetails\u003e",
"",
"\u003csummary\u003e\u003cp style=\"display:inline\"\u003eanswer\u003c/p\u003e\u003c/summary\u003e",
"",
"",
"",
""]
        },
           "execution_count": 12,
           "metadata": {},
           "output_type": "execute_result"
          },

          {
           "data": {
            "text/plain": ["val it : R1 list * int =",
"",
"  ([{ X = \"a\"",
"",
"      Y = 2 }; { X = \"b\"",
"",
"                 Y = -3 }; { X = \"c\"",
"",
"                             Y = 8 }; { X = \"d\"",
"",
"                                        Y = 3 }; { X = \"e\"",
"",
"                                                   Y = -9 }], -4)"]
        },
           "execution_count": 12,
           "metadata": {},
           "output_type": "execute_result"
          },

          {
           "data": {
            "text/html": ["",
"",
"",
"",
"\u003c/details\u003e",
"",
"\u003c/span\u003e",
"",
"\u003c/p\u003e",
"",
"\u003c/div\u003e",
"",
""]
        },
           "execution_count": 12,
           "metadata": {},
           "output_type": "execute_result"
          }],
           "source": ["type R1 = { X : string; Y : int }\n",
"\n",
"let r1xs =\n",
"    [ { X = \"a\"; Y = 1 }\n",
"      { X = \"b\"; Y = -4 }\n",
"      { X = \"c\"; Y = 7 } \n",
"      { X = \"d\"; Y = 2 }\n",
"      { X = \"e\"; Y = -10 }]\n"]
          }
,
          {
           "cell_type": "code",
           "metadata": {},
            "execution_count": null, "outputs": [],
           "source": ["// write your code here, see website for solution.\n"]
          }
,
          {
           "cell_type": "markdown",
           "metadata": {},
           
           "source": ["## Question 11\n",
"\n",
"Given the list below, sum all the elements.\n",
"\n",
"```fsharp\n",
"[ 1; -4; 7; 2; -10]\n",
"```\n",
"\u003cdiv style=\"padding-left: 40px;\"\u003e\n",
"\u003cp\u003e \n",
"\u003cspan\u003e\n",
"\u003cdetails\u003e\n",
"\u003csummary\u003e\u003cp style=\"display:inline\"\u003eanswer\u003c/p\u003e\u003c/summary\u003e\n",
"\n",
"```\n",
"val it : int = -4\n",
"```\n",
"\n",
"\u003c/details\u003e\n",
"\u003c/span\u003e\n",
"\u003c/p\u003e\n",
"\u003c/div\u003e\n",
"\n"]
          }
,
          {
           "cell_type": "code",
           "metadata": {},
            "execution_count": null, "outputs": [],
           "source": ["// write your code here, see website for solution.\n"]
          }
,
          {
           "cell_type": "markdown",
           "metadata": {},
           
           "source": ["## Question 12\n",
"\n",
"Given the list below, add `1` to all the elements and then calculate the sum.\n",
"\n",
"```fsharp\n",
"[ 1; -4; 7; 2; -10]\n",
"```\n",
"\u003cdiv style=\"padding-left: 40px;\"\u003e\n",
"\u003cp\u003e \n",
"\u003cspan\u003e\n",
"\u003cdetails\u003e\n",
"\u003csummary\u003e\u003cp style=\"display:inline\"\u003eanswer\u003c/p\u003e\u003c/summary\u003e\n",
"\n",
"```\n",
"val it : int = 1\n",
"```\n",
"\n",
"\u003c/details\u003e\n",
"\u003c/span\u003e\n",
"\u003c/p\u003e\n",
"\u003c/div\u003e\n",
"\n"]
          }
,
          {
           "cell_type": "code",
           "metadata": {},
            "execution_count": null, "outputs": [],
           "source": ["// write your code here, see website for solution.\n"]
          }
,
          {
           "cell_type": "markdown",
           "metadata": {},
           
           "source": ["## Question 13\n",
"\n",
"Given the list below, calculate the `average` of the elements in the list.\n",
"\n",
"```fsharp\n",
"[ 1.0; -4.0; 7.0; 2.0; -10.0]\n",
"```\n",
"\u003cdiv style=\"padding-left: 40px;\"\u003e\n",
"\u003cp\u003e \n",
"\u003cspan\u003e\n",
"\u003cdetails\u003e\n",
"\u003csummary\u003e\u003cp style=\"display:inline\"\u003eanswer\u003c/p\u003e\u003c/summary\u003e\n",
"\n",
"```\n",
"val it : float = -0.8\n",
"```\n",
"\n",
"\u003c/details\u003e\n",
"\u003c/span\u003e\n",
"\u003c/p\u003e\n",
"\u003c/div\u003e\n",
"\n"]
          }
,
          {
           "cell_type": "code",
           "metadata": {},
            "execution_count": null, "outputs": [],
           "source": ["// write your code here, see website for solution.\n"]
          }
,
          {
           "cell_type": "markdown",
           "metadata": {},
           
           "source": ["## Question 14\n",
"\n",
"Given the list below, convert each element to a `decimal` and then calculate the `average` of the elements in the list.\n",
"\n",
"```fsharp\n",
"[ 1.0; -4.0; 7.0; 2.0; -10.0]\n",
"```\n",
"\u003cdiv style=\"padding-left: 40px;\"\u003e\n",
"\u003cp\u003e \n",
"\u003cspan\u003e\n",
"\u003cdetails\u003e\n",
"\u003csummary\u003e\u003cp style=\"display:inline\"\u003eanswer\u003c/p\u003e\u003c/summary\u003e\n",
"\n",
"```\n",
"val it : decimal = -0.8M\n",
"```\n",
"\n",
"Since `decimal` is a function that converts to\n",
"the `decimal` type, you could also do.\n",
"The FSharp linter shouLd show you a blue squiggly\n",
"in the above code telling you this.\n",
"\n",
"```\n",
"val it : decimal = -0.8M\n",
"```\n",
"\n",
"\u003c/details\u003e\n",
"\u003c/span\u003e\n",
"\u003c/p\u003e\n",
"\u003c/div\u003e\n",
"\n"]
          }
,
          {
           "cell_type": "code",
           "metadata": {},
            "execution_count": null, "outputs": [],
           "source": ["// write your code here, see website for solution.\n"]
          }],
            "metadata": {
            "kernelspec": {"display_name": ".NET (F#)", "language": "F#", "name": ".net-fsharp"},
            "langauge_info": {
        "file_extension": ".fs",
        "mimetype": "text/x-fsharp",
        "name": "C#",
        "pygments_lexer": "fsharp",
        "version": "4.5"
        }
        },
            "nbformat": 4,
            "nbformat_minor": 1
        }
        

