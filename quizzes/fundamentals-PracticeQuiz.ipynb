
        {
            "cells": [
          {
           "cell_type": "markdown",
           "metadata": {},
           
           "source": ["[![Binder](../img/badge-binder.svg)](https://mybinder.org/v2/gh/nhirschey/teaching/gh-pages?filepath=quizzes/fundamentals-PracticeQuiz.ipynb)\u0026emsp;\n",
"[![Script](../img/badge-script.svg)](/Teaching//quizzes/fundamentals-PracticeQuiz.fsx)\u0026emsp;\n",
"[![Notebook](../img/badge-notebook.svg)](/Teaching//quizzes/fundamentals-PracticeQuiz.ipynb)\n",
"\n",
"## Question 1\n",
"\n",
"Calculate `3.0` to the power of `4.0`.\n",
"\n",
"\u003cdiv style=\"padding-left: 40px;\"\u003e\n",
"\u003cp\u003e \n",
"\u003cspan\u003e\n",
"\u003cdetails\u003e\n",
"\u003csummary\u003e\u003cp style=\"display:inline\"\u003eanswer\u003c/p\u003e\u003c/summary\u003e\n",
"\n",
"```\n",
"val it : float = 81.0\n",
"```\n",
"\n",
"\u003c/details\u003e\n",
"\u003c/span\u003e\n",
"\u003c/p\u003e\n",
"\u003c/div\u003e\n",
"\n"]
          }
,
          {
           "cell_type": "code",
           "metadata": {},
            "execution_count": null, "outputs": [],
           "source": ["// write your code here, see website for solution.\n"]
          }
,
          {
           "cell_type": "markdown",
           "metadata": {},
           
           "source": ["## Question 2\n",
"\n",
"Assign the integer `1` to a value called `a`.\n",
"\n",
"\u003cdiv style=\"padding-left: 40px;\"\u003e\n",
"\u003cp\u003e \n",
"\u003cspan\u003e\n",
"\u003cdetails\u003e\n",
"\u003csummary\u003e\u003cp style=\"display:inline\"\u003eanswer\u003c/p\u003e\u003c/summary\u003e\n",
"\n",
"```\n",
"val a : int = 1\n",
"```\n",
"\n",
"\u003c/details\u003e\n",
"\u003c/span\u003e\n",
"\u003c/p\u003e\n",
"\u003c/div\u003e\n",
"\n"]
          }
,
          {
           "cell_type": "code",
           "metadata": {},
            "execution_count": null, "outputs": [],
           "source": ["// write your code here, see website for solution.\n"]
          }
,
          {
           "cell_type": "markdown",
           "metadata": {},
           
           "source": ["## Question 3\n",
"\n",
"Write a function named `add3` that adds `3.0` to any `float` input.\n",
"\n",
"\u003cdiv style=\"padding-left: 40px;\"\u003e\n",
"\u003cp\u003e \n",
"\u003cspan\u003e\n",
"\u003cdetails\u003e\n",
"\u003csummary\u003e\u003cp style=\"display:inline\"\u003eanswer\u003c/p\u003e\u003c/summary\u003e\n",
"\n",
"```\n",
"val add3 : x:float -\u003e float\n",
"```\n",
"\n",
"\u003c/details\u003e\n",
"\u003c/span\u003e\n",
"\u003c/p\u003e\n",
"\u003c/div\u003e\n",
"\n"]
          }
,
          {
           "cell_type": "code",
           "metadata": {},
            "execution_count": null, "outputs": [],
           "source": ["// write your code here, see website for solution.\n"]
          }
,
          {
           "cell_type": "markdown",
           "metadata": {},
           
           "source": ["## Question 4\n",
"\n",
"Given a tuple `(1.0,2.0)`, assign the second element to a value named `b`.\n",
"\n",
"\u003cdiv style=\"padding-left: 40px;\"\u003e\n",
"\u003cp\u003e \n",
"\u003cspan\u003e\n",
"\u003cdetails\u003e\n",
"\u003csummary\u003e\u003cp style=\"display:inline\"\u003eanswer\u003c/p\u003e\u003c/summary\u003e\n",
"\n",
"```\n",
"val b : float = 2.0\n",
"```\n",
"\n",
"or\n",
"\n",
"```\n",
"val b1 : float = 2.0\n",
"```\n",
"\n",
"\u003c/details\u003e\n",
"\u003c/span\u003e\n",
"\u003c/p\u003e\n",
"\u003c/div\u003e\n",
"\n"]
          }
,
          {
           "cell_type": "code",
           "metadata": {},
            "execution_count": null, "outputs": [],
           "source": ["// write your code here, see website for solution.\n"]
          }
,
          {
           "cell_type": "markdown",
           "metadata": {},
           
           "source": ["## Question 5\n",
"\n",
"Create a tuple where the first, second, and third elements are `\"a\"`, `1`, and `2.0`.\n",
"\n",
"\u003cdiv style=\"padding-left: 40px;\"\u003e\n",
"\u003cp\u003e \n",
"\u003cspan\u003e\n",
"\u003cdetails\u003e\n",
"\u003csummary\u003e\u003cp style=\"display:inline\"\u003eanswer\u003c/p\u003e\u003c/summary\u003e\n",
"\n",
"```\n",
"val it : string * int * float = (\"a\", 1, 2.0)\n",
"```\n",
"\n",
"\u003c/details\u003e\n",
"\u003c/span\u003e\n",
"\u003c/p\u003e\n",
"\u003c/div\u003e\n",
"\n"]
          }
,
          {
           "cell_type": "code",
           "metadata": {},
            "execution_count": null, "outputs": [],
           "source": ["// write your code here, see website for solution.\n"]
          }
,
          {
           "cell_type": "markdown",
           "metadata": {},
           
           "source": ["## Question 6\n",
"\n",
"Define a record type named `Record1` that has a `string` `Id` field and a `float Y` field.\n",
"\n",
"\u003cdiv style=\"padding-left: 40px;\"\u003e\n",
"\u003cp\u003e \n",
"\u003cspan\u003e\n",
"\u003cdetails\u003e\n",
"\u003csummary\u003e\u003cp style=\"display:inline\"\u003eanswer\u003c/p\u003e\u003c/summary\u003e\n",
"\n",
"```\n",
"type Record1 =\n",
"  { Id: string\n",
"    Y: float }\n",
"```\n",
"\n",
"\u003c/details\u003e\n",
"\u003c/span\u003e\n",
"\u003c/p\u003e\n",
"\u003c/div\u003e\n",
"\n"]
          }
,
          {
           "cell_type": "code",
           "metadata": {},
            "execution_count": null, "outputs": [],
           "source": ["// write your code here, see website for solution.\n"]
          }
,
          {
           "cell_type": "markdown",
           "metadata": {},
           
           "source": ["## Question 7\n",
"\n",
"Given the type signature `val a : float = 2.0`, what is the type of value a?\n",
"\n",
"\u003cdiv style=\"padding-left: 40px;\"\u003e\n",
"\u003cp\u003e \n",
"\u003cspan\u003e\n",
"\u003cdetails\u003e\n",
"\u003csummary\u003e\u003cp style=\"display:inline\"\u003eanswer\u003c/p\u003e\u003c/summary\u003e\n",
"\n",
"float\n",
"\n",
"\u003c/details\u003e\n",
"\u003c/span\u003e\n",
"\u003c/p\u003e\n",
"\u003c/div\u003e\n",
"\n"]
          }
,
          {
           "cell_type": "code",
           "metadata": {},
            "execution_count": null, "outputs": [],
           "source": ["// write your answer here, see website for solution.\n"]
          }
,
          {
           "cell_type": "markdown",
           "metadata": {},
           
           "source": ["## Question 8\n",
"\n",
"Create a record type named `Record2`. It should have two integer fields `X` and `Y`. Create an instance of the record where `X = 4` and `Y = 2`.\n",
"\n",
"\u003cdiv style=\"padding-left: 40px;\"\u003e\n",
"\u003cp\u003e \n",
"\u003cspan\u003e\n",
"\u003cdetails\u003e\n",
"\u003csummary\u003e\u003cp style=\"display:inline\"\u003eanswer\u003c/p\u003e\u003c/summary\u003e\n",
"\n",
"```\n",
"type Record2 =\n",
"  { X: int\n",
"    Y: int }\n",
"val it : Record2 = { X = 4\n",
"                     Y = 2 }\n",
"```\n",
"\n",
"\u003c/details\u003e\n",
"\u003c/span\u003e\n",
"\u003c/p\u003e\n",
"\u003c/div\u003e\n",
"\n"]
          }
,
          {
           "cell_type": "code",
           "metadata": {},
            "execution_count": null, "outputs": [],
           "source": ["// write your code here, see website for solution.\n"]
          }
,
          {
           "cell_type": "markdown",
           "metadata": {},
           
           "source": ["## Question 9\n",
"\n",
"Explain why this expression gives an error when you try to run it: `4 + 7.0`\n",
"\n",
"\u003cdiv style=\"padding-left: 40px;\"\u003e\n",
"\u003cp\u003e \n",
"\u003cspan\u003e\n",
"\u003cdetails\u003e\n",
"\u003csummary\u003e\u003cp style=\"display:inline\"\u003eanswer\u003c/p\u003e\u003c/summary\u003e\n",
"\n",
"Because 4 is an integer and 7.0 is a float. Addition is defined on values with the same type.\n",
"The two values need to either both be integers or both be floats.\n",
"\n",
"\u003c/details\u003e\n",
"\u003c/span\u003e\n",
"\u003c/p\u003e\n",
"\u003c/div\u003e\n",
"\n"]
          }
,
          {
           "cell_type": "code",
           "metadata": {},
            "execution_count": null, "outputs": [],
           "source": ["// write your answer here, see website for solution.\n"]
          }
,
          {
           "cell_type": "markdown",
           "metadata": {},
           
           "source": ["## Question 10\n",
"\n",
"Create an `array` where the elements are `1`, `2`, and `3`.\n",
"\n",
"\u003cdiv style=\"padding-left: 40px;\"\u003e\n",
"\u003cp\u003e \n",
"\u003cspan\u003e\n",
"\u003cdetails\u003e\n",
"\u003csummary\u003e\u003cp style=\"display:inline\"\u003eanswer\u003c/p\u003e\u003c/summary\u003e\n",
"\n",
"```\n",
"val it : int [] = [|1; 2; 3|]\n",
"```\n",
"\n",
"or\n",
"\n",
"```\n",
"val it : int [] = [|1; 2; 3|]\n",
"```\n",
"\n",
"or\n",
"\n",
"```\n",
"val it : int [] = [|1; 2; 3|]\n",
"```\n",
"\n",
"\u003c/details\u003e\n",
"\u003c/span\u003e\n",
"\u003c/p\u003e\n",
"\u003c/div\u003e\n",
"\n"]
          }
,
          {
           "cell_type": "code",
           "metadata": {},
            "execution_count": null, "outputs": [],
           "source": ["// write your code here, see website for solution.\n"]
          }
,
          {
           "cell_type": "markdown",
           "metadata": {},
           
           "source": ["## Question 11\n",
"\n",
"Take a `list` containing floats `1.0 .. 10.0`. Pass it to `List.map` and use an anonymous function to divide each number by `3.0`.\n",
"\n",
"\u003cdiv style=\"padding-left: 40px;\"\u003e\n",
"\u003cp\u003e \n",
"\u003cspan\u003e\n",
"\u003cdetails\u003e\n",
"\u003csummary\u003e\u003cp style=\"display:inline\"\u003eanswer\u003c/p\u003e\u003c/summary\u003e\n",
"\n",
"```\n",
"val it : float list =\n",
"  [0.3333333333; 0.6666666667; 1.0; 1.333333333; 1.666666667; 2.0; 2.333333333;\n",
"   2.666666667; 3.0; 3.333333333]\n",
"```\n",
"\n",
"\u003c/details\u003e\n",
"\u003c/span\u003e\n",
"\u003c/p\u003e\n",
"\u003c/div\u003e\n",
"\n"]
          }
,
          {
           "cell_type": "code",
           "metadata": {},
            "execution_count": null, "outputs": [],
           "source": ["// write your code here, see website for solution.\n"]
          }
,
          {
           "cell_type": "markdown",
           "metadata": {},
           
           "source": ["## Question 12\n",
"\n",
"Take a `list` containing floats `1.0 .. 10.0`. Group the elements based on whether the elements are greater than or equal to `4.0`.\n",
"\n",
"\u003cdiv style=\"padding-left: 40px;\"\u003e\n",
"\u003cp\u003e \n",
"\u003cspan\u003e\n",
"\u003cdetails\u003e\n",
"\u003csummary\u003e\u003cp style=\"display:inline\"\u003eanswer\u003c/p\u003e\u003c/summary\u003e\n",
"\n",
"```\n",
"val it : (bool * float list) list =\n",
"  [(false, [1.0; 2.0; 3.0]); (true, [4.0; 5.0; 6.0; 7.0; 8.0; 9.0; 10.0])]\n",
"```\n",
"\n",
"\u003c/details\u003e\n",
"\u003c/span\u003e\n",
"\u003c/p\u003e\n",
"\u003c/div\u003e\n",
"\n"]
          }
,
          {
           "cell_type": "code",
           "metadata": {},
            "execution_count": null, "outputs": [],
           "source": ["// write your code here, see website for solution.\n"]
          }
,
          {
           "cell_type": "markdown",
           "metadata": {},
           
           "source": ["## Question 13\n",
"\n",
"Take a `list` containing floats `1.0 .. 10.0`. Filter it so that you are left with the elements `\u003e 5.0`.\n",
"\n",
"\u003cdiv style=\"padding-left: 40px;\"\u003e\n",
"\u003cp\u003e \n",
"\u003cspan\u003e\n",
"\u003cdetails\u003e\n",
"\u003csummary\u003e\u003cp style=\"display:inline\"\u003eanswer\u003c/p\u003e\u003c/summary\u003e\n",
"\n",
"```\n",
"val it : float list = [6.0; 7.0; 8.0; 9.0; 10.0]\n",
"```\n",
"\n",
"\u003c/details\u003e\n",
"\u003c/span\u003e\n",
"\u003c/p\u003e\n",
"\u003c/div\u003e\n",
"\n"]
          }
,
          {
           "cell_type": "code",
           "metadata": {},
            "execution_count": null, "outputs": [],
           "source": ["// write your code here, see website for solution.\n"]
          }
,
          {
           "cell_type": "markdown",
           "metadata": {},
           
           "source": ["## Question 14\n",
"\n",
"Take a `list` containing floats `1.0 .. 10.0`. Use `List.groupBy` to group the elements based on if they\u0027re `\u003e= 5.0`. Then use `List.map` to get the maxiumum element that is `\u003c 5.0` and the minimum value that is `\u003e= 5.0`.\n",
"\n",
"\u003cdiv style=\"padding-left: 40px;\"\u003e\n",
"\u003cp\u003e \n",
"\u003cspan\u003e\n",
"\u003cdetails\u003e\n",
"\u003csummary\u003e\u003cp style=\"display:inline\"\u003eanswer\u003c/p\u003e\u003c/summary\u003e\n",
"\n",
"```\n",
"val it : float list = [4.0; 5.0]\n",
"```\n",
"\n",
"\u003c/details\u003e\n",
"\u003c/span\u003e\n",
"\u003c/p\u003e\n",
"\u003c/div\u003e\n",
"\n"]
          }
,
          {
           "cell_type": "code",
           "metadata": {},
            "execution_count": null, "outputs": [],
           "source": ["// write your code here, see website for solution.\n"]
          }
,
          {
           "cell_type": "markdown",
           "metadata": {},
           
           "source": ["## Question 15\n",
"\n",
"Take a `list` containing floats `1.0 .. 10.0`. Use functions from the List module to sort it in descending order. Then take the 3rd element of the reversed list and add `7.0` to it.\n",
"\n",
"\u003cdiv style=\"padding-left: 40px;\"\u003e\n",
"\u003cp\u003e \n",
"\u003cspan\u003e\n",
"\u003cdetails\u003e\n",
"\u003csummary\u003e\u003cp style=\"display:inline\"\u003eanswer\u003c/p\u003e\u003c/summary\u003e\n",
"\n",
"```\n",
"val it : float = 15.0\n",
"```\n",
"\n",
"\u003c/details\u003e\n",
"\u003c/span\u003e\n",
"\u003c/p\u003e\n",
"\u003c/div\u003e\n",
"\n"]
          }
,
          {
           "cell_type": "code",
           "metadata": {},
            "execution_count": null, "outputs": [],
           "source": ["// write your code here, see website for solution.\n"]
          }],
            "metadata": {
            "kernelspec": {"display_name": ".NET (F#)", "language": "F#", "name": ".net-fsharp"},
            "langauge_info": {
        "file_extension": ".fs",
        "mimetype": "text/x-fsharp",
        "name": "C#",
        "pygments_lexer": "fsharp",
        "version": "4.5"
        }
        },
            "nbformat": 4,
            "nbformat_minor": 1
        }
        

