
        {
            "cells": [
          {
           "cell_type": "markdown",
           "metadata": {},
           
           "source": ["[![Binder](../img/badge-binder.svg)](https://mybinder.org/v2/gh/nhirschey/teaching/gh-pages?filepath=quizzes/portfolios-PracticeQuiz.ipynb)\u0026emsp;\n",
"[![Script](../img/badge-script.svg)](/Teaching//quizzes/portfolios-PracticeQuiz.fsx)\u0026emsp;\n",
"[![Notebook](../img/badge-notebook.svg)](/Teaching//quizzes/portfolios-PracticeQuiz.ipynb)\n",
"\n",
"# Some good things to reference\n",
"\n",
"[Anonymous Records](https://docs.microsoft.com/en-us/dotnet/fsharp/language-reference/anonymous-records#syntax). You can read the above link for details, but the point of these is quite simple.\n",
"\n",
"Records have been our main type for holding data for an observation. We\u0027ve typically defined these ahead of time with a name before using them. This is good for important types that you will use frequently.\n",
"\n",
"If you\u0027re using a particular record in only a few lines of code, then it can feel cumbersome to define the type beforehand. Anonymous records are a good solution in these circumstances. They are records that you can essentially use like regular records that we\u0027ve been using, but you don\u0027t have to define the name of the record ahead of time.\n",
"\n",
"I rarely use anonymous records, but you might find them useful for exploratory data manipulation. They\u0027re also kind of nice for these short problems because I don\u0027t need to define a record for each problem.\n",
"\n",
"# Anonymous records\n",
"\n",
"## Question 1\n",
"\n",
"0 Create a **record** named `ExampleRec` that has an `X` field of type int and a `Y` field of type int. Create an example `ExampleRec` and assign it to a value named `r`.\n",
"\n",
"1 Create an **anonymous record** that has an `X` field of type int and a `Y` field of type int. Create an example of the anonymous record and assign it to a value named `ar`.\n",
"\n",
"\u003cdiv style=\"padding-left: 40px;\"\u003e\n",
"\u003cp\u003e \n",
"\u003cspan\u003e\n",
"\u003cdetails\u003e\n",
"\u003csummary\u003e\u003cp style=\"display:inline\"\u003eanswer\u003c/p\u003e\u003c/summary\u003e\n",
"\n",
"```\n",
"type ExampleRec =\n",
"  { X: int\n",
"    Y: int }\n",
"val r : ExampleRec = { X = 1\n",
"                       Y = 2 }\n",
"val ar : {| X: int; Y: int |} = { X = 1\n",
"                                  Y = 2 }\n",
"```\n",
"\n",
"\u003c/details\u003e\n",
"\u003c/span\u003e\n",
"\u003c/p\u003e\n",
"\u003c/div\u003e\n",
"\n"]
          }
,
          {
           "cell_type": "code",
           "metadata": {},
            "execution_count": null, "outputs": [],
           "source": ["// write your code here, see website for solution.\n"]
          }
,
          {
           "cell_type": "markdown",
           "metadata": {},
           
           "source": ["## Question 2\n",
"\n",
"Imagine you have this array\n",
"\n"]
          }
,
          {
           "cell_type": "code",
           "metadata": {},
            "execution_count": 4, "outputs": [],
           "source": ["open System\n",
"type ArExample = { Date : DateTime; Value: float}\n",
"let arr = [|{ Date = DateTime(1990,1,1); Value = 1.25}\n",
"            { Date = DateTime(1990,1,2); Value = 2.25}\n",
"            { Date = DateTime(1991,1,1); Value = 3.25} |]\n"]
          }
,
          {
           "cell_type": "markdown",
           "metadata": {},
           
           "source": ["0 Group the observations by a tuple of `(year,month)` and find the \n",
"minimum value for each group. Report the result as a tuple of the group\n",
"and the minimum value [so it will be `((year, month), minValue)`]().\n",
"\n",
"1 Now, the same thing with anonymous records.\n",
"Group the observations by an Anonymous Record `{| Year = year; Month= month|}` and find the\n",
"minimum value for each group. Report the result as an Anonymous record with a Group\n",
"field for the group and a value field for the minimum value [so it will be\n",
"`{| Group = {| Year = year; Month= month|}; Value = minValue |}`]().\n",
"\n",
"\u003cdiv style=\"padding-left: 40px;\"\u003e\n",
"\u003cp\u003e \n",
"\u003cspan\u003e\n",
"\u003cdetails\u003e\n",
"\u003csummary\u003e\u003cp style=\"display:inline\"\u003eanswer\u003c/p\u003e\u003c/summary\u003e\n",
"\n",
"```\n",
"val it : {| Group: {| Month: int; Year: int |}; Value: float |} [] =\n",
"  [|{ Group = { Month = 1\n",
"                Year = 1990 }\n",
"      Value = 1.25 }; { Group = { Month = 1\n",
"                                  Year = 1991 }\n",
"                        Value = 3.25 }|]\n",
"```\n",
"\n",
"\u003c/details\u003e\n",
"\u003c/span\u003e\n",
"\u003c/p\u003e\n",
"\u003c/div\u003e\n",
"\n"]
          }
,
          {
           "cell_type": "code",
           "metadata": {},
            "execution_count": null, "outputs": [],
           "source": ["// write your code here, see website for solution.\n"]
          }
,
          {
           "cell_type": "markdown",
           "metadata": {},
           
           "source": ["# Portfolio Returns\n",
"\n",
"## Question 1\n",
"\n",
"Imagine that you have the following positions in your portfolio.\n",
"For each position you have a weight and a return.\n",
"What is the return of the entire portfolio?\n",
"\n"]
          }
,
          {
           "cell_type": "code",
           "metadata": {},
            "execution_count": 6, "outputs": [],
           "source": ["type PortReturnPos = { Id: string;  Weight: float; Return: float}\n",
"let stockPos = { Id = \"stock\"; Weight = 0.25; Return = 0.1 }\n",
"let bondPos = { Id = \"bond\"; Weight = 0.75; Return = 0.05}\n"]
          }
,
          {
           "cell_type": "markdown",
           "metadata": {},
           
           "source": ["0 Group the observations by a tuple of `(year,month)` and find the \n",
"minimum value for each group. Report the result as a tuple of the group\n",
"and the minimum value [so it will be `((year, month), minValue)`]().\n",
"\n",
"1 Now, the same thing with anonymous records.\n",
"Group the observations by an Anonymous Record `{| Year = year; Month= month|}` and find the\n",
"minimum value for each group. Report the result as an Anonymous record with a Group\n",
"field for the group and a value field for the minimum value [so it will be\n",
"`{| Group = {| Year = year; Month= month|}; Value = minValue |}`]().\n",
"\n",
"\u003cdiv style=\"padding-left: 40px;\"\u003e\n",
"\u003cp\u003e \n",
"\u003cspan\u003e\n",
"\u003cdetails\u003e\n",
"\u003csummary\u003e\u003cp style=\"display:inline\"\u003eanswer\u003c/p\u003e\u003c/summary\u003e\n",
"\n",
"```\n",
"val stockAndBondPort : float = 0.0625\n",
"val weightXreturn : float [] = [|0.025; 0.0375|]\n",
"val stockAndBondPort2 : float = 0.0625\n",
"val it : bool = true\n",
"```\n",
"\n",
"\u003c/details\u003e\n",
"\u003c/span\u003e\n",
"\u003c/p\u003e\n",
"\u003c/div\u003e\n",
"\n"]
          }
,
          {
           "cell_type": "code",
           "metadata": {},
            "execution_count": null, "outputs": [],
           "source": ["// write your code here, see website for solution.\n"]
          }
,
          {
           "cell_type": "markdown",
           "metadata": {},
           
           "source": ["## Question 2\n",
"\n",
"Imagine that you have the following positions in your portfolio.\n",
"For each position you have a weight and a return.\n",
"What is the return of the entire portfolio?\n",
"\n"]
          }
,
          {
           "cell_type": "code",
           "metadata": {},
            "execution_count": 8, "outputs": [
          {
           "data": {
            "text/html": ["",
"",
"\u003cdiv style=\"padding-left: 40px;\"\u003e",
"",
"\u003cp\u003e ",
"",
"\u003cspan\u003e",
"",
"\u003cdetails\u003e",
"",
"\u003csummary\u003e\u003cp style=\"display:inline\"\u003eanswer\u003c/p\u003e\u003c/summary\u003e",
"",
"",
"",
""]
        },
           "execution_count": 8,
           "metadata": {},
           "output_type": "execute_result"
          },

          {
           "data": {
            "text/plain": ["val threeAssetPortfolioReturn : float = 0.01"]
        },
           "execution_count": 8,
           "metadata": {},
           "output_type": "execute_result"
          },

          {
           "data": {
            "text/html": ["",
"",
"",
"",
"\u003c/details\u003e",
"",
"\u003c/span\u003e",
"",
"\u003c/p\u003e",
"",
"\u003c/div\u003e",
"",
""]
        },
           "execution_count": 8,
           "metadata": {},
           "output_type": "execute_result"
          }],
           "source": ["let positions =\n",
"    [|{ Id = \"stock\"; Weight = 0.25; Return = 0.12 }\n",
"      { Id = \"bond\"; Weight = 0.25; Return = 0.22 }\n",
"      { Id = \"real-estate\"; Weight = 0.5; Return = -0.15 } |]\n"]
          }
,
          {
           "cell_type": "code",
           "metadata": {},
            "execution_count": null, "outputs": [],
           "source": ["// write your code here, see website for solution.\n"]
          }
,
          {
           "cell_type": "markdown",
           "metadata": {},
           
           "source": ["## Question 3\n",
"\n",
"Imagine that you have the following positions in your portfolio.\n",
"For each position you have a weight and a return.\n",
"What is the return of the entire portfolio?\n",
"\n"]
          }
,
          {
           "cell_type": "code",
           "metadata": {},
            "execution_count": 10, "outputs": [
          {
           "data": {
            "text/html": ["",
"",
"\u003cdiv style=\"padding-left: 40px;\"\u003e",
"",
"\u003cp\u003e ",
"",
"\u003cspan\u003e",
"",
"\u003cdetails\u003e",
"",
"\u003csummary\u003e\u003cp style=\"display:inline\"\u003eanswer\u003c/p\u003e\u003c/summary\u003e",
"",
"",
"",
""]
        },
           "execution_count": 10,
           "metadata": {},
           "output_type": "execute_result"
          },

          {
           "data": {
            "text/plain": ["val positionsWithShortReturn : float = -0.175"]
        },
           "execution_count": 10,
           "metadata": {},
           "output_type": "execute_result"
          },

          {
           "data": {
            "text/html": ["",
"",
"",
"",
"\u003c/details\u003e",
"",
"\u003c/span\u003e",
"",
"\u003c/p\u003e",
"",
"\u003c/div\u003e",
"",
""]
        },
           "execution_count": 10,
           "metadata": {},
           "output_type": "execute_result"
          }],
           "source": ["let positionsWithShort =\n",
"    [|{ Id = \"stock\"; Weight = 0.25; Return = 0.12 }\n",
"      { Id = \"bond\"; Weight = -0.25; Return = 0.22 }\n",
"      { Id = \"real-estate\"; Weight = 1.0; Return = -0.15 } |]\n"]
          }
,
          {
           "cell_type": "code",
           "metadata": {},
            "execution_count": null, "outputs": [],
           "source": ["// write your code here, see website for solution.\n"]
          }
,
          {
           "cell_type": "markdown",
           "metadata": {},
           
           "source": ["# Sharpe Ratios\n",
"\n",
"## Question 1\n",
"\n",
"Imagine that you have the following array of **annual** returns in\n",
"excess of the risk-free rate. What is the **annualized** Sharpe ratio?\n",
"\n"]
          }
,
          {
           "cell_type": "code",
           "metadata": {},
            "execution_count": 12, "outputs": [
          {
           "data": {
            "text/html": ["",
"",
"\u003cdiv style=\"padding-left: 40px;\"\u003e",
"",
"\u003cp\u003e ",
"",
"\u003cspan\u003e",
"",
"\u003cdetails\u003e",
"",
"\u003csummary\u003e\u003cp style=\"display:inline\"\u003eanswer\u003c/p\u003e\u003c/summary\u003e",
"",
"",
"",
""]
        },
           "execution_count": 12,
           "metadata": {},
           "output_type": "execute_result"
          },

          {
           "data": {
            "text/plain": ["[Loading C:\\Users\\runneradmin\\AppData\\Local\\Temp\\nuget\\4604--9822b8ab-06a9-4b4d-8337-ac4e31b82da8\\Project.fsproj.fsx]",
"",
"namespace FSI_3043.Project",
"",
"",
"",
"val retsAvg : float = 0.004",
"",
"val retsStdDev : float = 0.241516045",
"",
"val retsSharpeRatio : float = 0.01656204663"]
        },
           "execution_count": 12,
           "metadata": {},
           "output_type": "execute_result"
          },

          {
           "data": {
            "text/html": ["",
"",
"",
"",
"\u003c/details\u003e",
"",
"\u003c/span\u003e",
"",
"\u003c/p\u003e",
"",
"\u003c/div\u003e",
"",
""]
        },
           "execution_count": 12,
           "metadata": {},
           "output_type": "execute_result"
          }],
           "source": ["let rets = [| 0.1; -0.4; 0.2; 0.15; -0.03 |]\n",
"//Note that the units are such that 0.1 is 10%.\n"]
          }
,
          {
           "cell_type": "code",
           "metadata": {},
            "execution_count": null, "outputs": [],
           "source": ["// write your code here, see website for solution.\n"]
          }
,
          {
           "cell_type": "markdown",
           "metadata": {},
           
           "source": ["## Question 2\n",
"\n",
"Imagine that you have the following array of **monthly** returns in\n",
"excess of the risk-free rate. What is the **annualized** Sharpe ratio?\n",
"\n",
"```fsharp\n",
"let rets = [| 0.1; -0.4; 0.2; 0.15; -0.03 |]\n",
"//Note that the units are such that 0.1 is 10%.\n",
"```\n",
"\u003cdiv style=\"padding-left: 40px;\"\u003e\n",
"\u003cp\u003e \n",
"\u003cspan\u003e\n",
"\u003cdetails\u003e\n",
"\u003csummary\u003e\u003cp style=\"display:inline\"\u003eanswer\u003c/p\u003e\u003c/summary\u003e\n",
"\n",
"```\n",
"val monthlyRetsAnnualizedAvg : float = 0.048\n",
"val monthlyRetsAnnualizedAvg2 : float = 0.048\n",
"val monthlyRetsAvg : float = 0.004\n",
"val monthlyRetsAnnualizedAvg3 : float = 0.048\n",
"val monthlyRetsAnnualizedSd : float = 0.8366361216\n",
"val monthlyRetsSd : float = 0.241516045\n",
"val monthlyRetsAnnualizedSd2 : float = 0.8366361216\n",
"val annualizedSharpeFromMonthly : float = 0.05737261249\n",
"val annualizedSharpeFromMonthly2 : float = 0.05737261249\n",
"val it : bool = true\n",
"```\n",
"\n",
"\u003c/details\u003e\n",
"\u003c/span\u003e\n",
"\u003c/p\u003e\n",
"\u003c/div\u003e\n",
"\n"]
          }
,
          {
           "cell_type": "code",
           "metadata": {},
            "execution_count": null, "outputs": [],
           "source": ["// write your code here, see website for solution.\n"]
          }
,
          {
           "cell_type": "markdown",
           "metadata": {},
           
           "source": ["## Question 3\n",
"\n",
"Imagine that you have the following array of **daily** returns in\n",
"excess of the risk-free rate. What is the **annualized** Sharpe ratio?\n",
"\n",
"```fsharp\n",
"let rets = [| 0.1; -0.4; 0.2; 0.15; -0.03 |]\n",
"//Note that the units are such that 0.1 is 10%.\n",
"```\n",
"\u003cdiv style=\"padding-left: 40px;\"\u003e\n",
"\u003cp\u003e \n",
"\u003cspan\u003e\n",
"\u003cdetails\u003e\n",
"\u003csummary\u003e\u003cp style=\"display:inline\"\u003eanswer\u003c/p\u003e\u003c/summary\u003e\n",
"\n",
"```\n",
"val annualizedSharpeFromDaily : float = 0.2629143395\n",
"val dailyAvgRet : float = 0.004\n",
"val dailyStDevRet : float = 0.241516045\n",
"val annualizedSharpeFromDaily2 : float = 0.2629143395\n",
"```\n",
"\n",
"\u003c/details\u003e\n",
"\u003c/span\u003e\n",
"\u003c/p\u003e\n",
"\u003c/div\u003e\n",
"\n"]
          }
,
          {
           "cell_type": "code",
           "metadata": {},
            "execution_count": null, "outputs": [],
           "source": ["// write your code here, see website for solution.\n"]
          }],
            "metadata": {
            "kernelspec": {"display_name": ".NET (F#)", "language": "F#", "name": ".net-fsharp"},
            "langauge_info": {
        "file_extension": ".fs",
        "mimetype": "text/x-fsharp",
        "name": "C#",
        "pygments_lexer": "fsharp",
        "version": "4.5"
        }
        },
            "nbformat": 4,
            "nbformat_minor": 1
        }
        

